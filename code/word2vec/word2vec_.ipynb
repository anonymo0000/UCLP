{
 "cells": [
  {
   "cell_type": "code",
   "execution_count": 1,
   "metadata": {},
   "outputs": [
    {
     "data": {
      "text/plain": [
       "300"
      ]
     },
     "execution_count": 1,
     "metadata": {},
     "output_type": "execute_result"
    }
   ],
   "source": [
    "#1         \n",
    "import gensim\n",
    "import logging\n",
    "\n",
    "\n",
    "# Load word2vec model (trained on an enormous Google corpus)\n",
    "model = gensim.models.KeyedVectors.load_word2vec_format('/home/user/Programs/PMA_lihang/code_lihang/word2vec/model/GoogleNews-vectors-negative300.bin', binary = True) \n",
    "\n",
    "# Check dimension of word vectors\n",
    "model.vector_size\n",
    "\n",
    "# vec = model['nothing']\n",
    "# print(vec[:20])\n"
   ]
  },
  {
   "cell_type": "code",
   "execution_count": 6,
   "metadata": {},
   "outputs": [
    {
     "name": "stdout",
     "output_type": "stream",
     "text": [
      "6\n",
      "['ip_input.c', 'in', 'BSD-derived', 'TCP/IP', 'implementations', '']\n",
      "<class 'list'>\n",
      "<class 'list'>\n",
      "torch.Size([6, 300])\n",
      "***\n"
     ]
    }
   ],
   "source": [
    "#         \n",
    "import csv\n",
    "import numpy as np\n",
    "import torch\n",
    "import torch.nn as nn\n",
    "import torch.nn.functional as F\n",
    "\n",
    "path_data = '/home/user/Programs/PMA_lihang/data/pt1_file2.csv'\n",
    "\n",
    "def get_vectorOOV1(s):\n",
    "  try:\n",
    "    return np.array(model.get_vector(s))\n",
    "  except KeyError:\n",
    "    return np.random.random((300,))\n",
    "\n",
    "def get_aspect_vec1(words):\n",
    "    # print(words)\n",
    "    # #words = [word for word in words ]\n",
    "    # print(words)\n",
    "    vector = []\n",
    "    for word in words:\n",
    "        # if word in model.index_to_key:\n",
    "        #     word_vector = model.get_vector(word)\n",
    "        #     print(type(model[word]))\n",
    "        # else:\n",
    "        #     word_vector = np.randn(300)\n",
    "        word_vector = get_vectorOOV1(word)\n",
    "        vector.append(word_vector)\n",
    "    # print(len(vector))\n",
    "    return vector\n",
    "\n",
    "f = open(path_data,'r',encoding='utf-8')\n",
    "vec = []\n",
    "lines = csv.reader(f)\n",
    "for line in lines:\n",
    "    print(len(line))\n",
    "    words = line[1].split(\" \")#product\n",
    "    print(words)\n",
    "    print(type(words))\n",
    "    vec = get_aspect_vec1(words)\n",
    "    # print(line)\n",
    "    print(type(vec))\n",
    "    tensor = torch.Tensor(np.array(vec))\n",
    "    print(tensor.shape)\n",
    "    print(\"***\")\n",
    "    tensor1 = tensor[0]\n",
    "    # for i in range(len(vec)-1):\n",
    "    #    tensor1 = torch.cat(tensor1, tensor[i+1])\n",
    "    # print(tensor1.shape)\n",
    "    # len = len(vec)\n",
    "    # print(\"****\")\n",
    "    # for i in range(len -1):\n",
    "    #    print(i)\n",
    "    #    tensor1 = torch.cat(tensor1, vec[i+1])\n",
    "    \n",
    "    # for i in tensor:\n",
    "    #    tensor1 = torch.cat(tensor1,i)\n",
    "    # print(type(tensor1),tensor1.shape)\n",
    "    break\n",
    "\n",
    "\n",
    "\n",
    "\n",
    "\n",
    "    \n",
    "# words = ['nothing','love','you']\n",
    "# vec = model[words]\n",
    "# print(len(vec[0]))\n",
    "\n"
   ]
  }
 ],
 "metadata": {
  "kernelspec": {
   "display_name": "base",
   "language": "python",
   "name": "python3"
  },
  "language_info": {
   "codemirror_mode": {
    "name": "ipython",
    "version": 3
   },
   "file_extension": ".py",
   "mimetype": "text/x-python",
   "name": "python",
   "nbconvert_exporter": "python",
   "pygments_lexer": "ipython3",
   "version": "3.7.11"
  },
  "orig_nbformat": 4,
  "vscode": {
   "interpreter": {
    "hash": "d4d1e4263499bec80672ea0156c357c1ee493ec2b1c70f0acce89fc37c4a6abe"
   }
  }
 },
 "nbformat": 4,
 "nbformat_minor": 2
}
