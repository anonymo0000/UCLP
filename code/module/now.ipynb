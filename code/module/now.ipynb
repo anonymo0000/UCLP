{
 "cells": [
  {
   "cell_type": "code",
   "execution_count": null,
   "metadata": {},
   "outputs": [],
   "source": [
    "path0 = \"/home/user/Programs/PMA_lihang/mypaper/data/1_3_aspects/V_type0_headTo_rt_av_im.csv\"\n",
    "path1 = \"/home/user/Programs/PMA_lihang/mypaper/data/1_3_aspects/V_type1_headTo_rt_av_im.csv\"\n",
    "path2 = \"/home/user/Programs/PMA_lihang/mypaper/data/1_3_aspects/V_type2_headTo_rt_av_im.csv\"\n",
    "path3 = \"/home/user/Programs/PMA_lihang/mypaper/data/1_3_aspects/V_type3_headTo_rt_av_im.csv\"\n",
    "path4 = \"/home/user/Programs/PMA_lihang/mypaper/data/1_3_aspects/V_type4_headTo_rt_av_im.csv\"\n",
    "path5 = \"/home/user/Programs/PMA_lihang/mypaper/data/1_3_aspects/V_type5_headTo_rt_av_im.csv\"\n",
    "path6 = \"/home/user/Programs/PMA_lihang/mypaper/data/1_3_aspects/V_type6_headTo_rt_av_im.csv\""
   ]
  }
 ],
 "metadata": {
  "language_info": {
   "name": "python"
  },
  "orig_nbformat": 4
 },
 "nbformat": 4,
 "nbformat_minor": 2
}
