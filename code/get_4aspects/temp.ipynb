{
 "cells": [
  {
   "cell_type": "code",
   "execution_count": 6,
   "metadata": {},
   "outputs": [
    {
     "name": "stdout",
     "output_type": "stream",
     "text": [
      "[]\n",
      "['CVE-YYYY-xxxx', 'BSD-derived TCP/IP implementations cause a denial of service (crash or hang) via crafted packets.ip_input.c', '0']\n"
     ]
    }
   ],
   "source": [
    "import csv\n",
    "\n",
    "path = \"/home/user/Programs/PMA_lihang/code_lihang/get_4aspects/data/toTrain.csv\"\n",
    "\n",
    "f= open(path, 'r', encoding='utf-8')\n",
    "data_label = csv.reader(f)\n",
    "for i in data_label:\n",
    "    print(i)"
   ]
  },
  {
   "cell_type": "code",
   "execution_count": 2,
   "metadata": {},
   "outputs": [],
   "source": [

    "path_in = \"data/row_test.csv\"\n",
    "\n",
    "\n",
    "path_temp = \"data/temp.csv\"\n",
    "path_temp2 = \"data/temp2.csv\"\n",
    "path_temp3 = \"data/temp3.csv\"\n",
    "path_temp4 = \"data/temp4.csv\"\n",
    "path_out = \"data/out.csv\"\n",
    "\n",
    "\n",
    "path_result = \"data/result.csv\"\n",
    "\n",
    "\n",
    "f_temp = open(path_temp, 'w', encoding='utf-8')\n",
    "f_temp.truncate()\n",
    "f_temp.close()\n",
    "f_temp = open(path_temp2, 'w', encoding='utf-8')\n",
    "f_temp.truncate()\n",
    "f_temp.close()\n",
    "f_temp = open(path_temp3, 'w', encoding='utf-8')\n",
    "f_temp.truncate()\n",
    "f_temp.close()\n",
    "f_temp = open(path_temp4, 'w', encoding='utf-8')\n",
    "f_temp.truncate()\n",
    "f_temp.close()\n",
    "f_temp = open(path_out, 'w', encoding='utf-8')\n",
    "f_temp.truncate()\n",
    "f_temp.close()\n",
    "f_temp = open(path_result, 'w', encoding='utf-8')\n",
    "f_temp.truncate()\n",
    "f_temp.close()\n"
   ]
  },
  {
   "cell_type": "code",
   "execution_count": 4,
   "metadata": {},
   "outputs": [
    {
     "ename": "TypeError",
     "evalue": "object of type '_csv.reader' has no len()",
     "output_type": "error",
     "traceback": [
      "\u001b[0;31m---------------------------------------------------------------------------\u001b[0m",
      "\u001b[0;31mTypeError\u001b[0m                                 Traceback (most recent call last)",
      "\u001b[0;32m/tmp/ipykernel_724077/3894771868.py\u001b[0m in \u001b[0;36m<module>\u001b[0;34m\u001b[0m\n\u001b[1;32m      3\u001b[0m \u001b[0mf_in\u001b[0m \u001b[0;34m=\u001b[0m \u001b[0mopen\u001b[0m\u001b[0;34m(\u001b[0m\u001b[0mpath_in\u001b[0m\u001b[0;34m,\u001b[0m \u001b[0;34m'r'\u001b[0m\u001b[0;34m,\u001b[0m \u001b[0mencoding\u001b[0m\u001b[0;34m=\u001b[0m\u001b[0;34m'utf-8'\u001b[0m\u001b[0;34m)\u001b[0m\u001b[0;34m\u001b[0m\u001b[0;34m\u001b[0m\u001b[0m\n\u001b[1;32m      4\u001b[0m \u001b[0mdata_label\u001b[0m \u001b[0;34m=\u001b[0m \u001b[0mcsv\u001b[0m\u001b[0;34m.\u001b[0m\u001b[0mreader\u001b[0m\u001b[0;34m(\u001b[0m\u001b[0mf_in\u001b[0m\u001b[0;34m)\u001b[0m\u001b[0;34m\u001b[0m\u001b[0;34m\u001b[0m\u001b[0m\n\u001b[0;32m----> 5\u001b[0;31m \u001b[0mprint\u001b[0m\u001b[0;34m(\u001b[0m\u001b[0mlen\u001b[0m\u001b[0;34m(\u001b[0m\u001b[0mdata_label\u001b[0m\u001b[0;34m)\u001b[0m\u001b[0;34m)\u001b[0m\u001b[0;34m\u001b[0m\u001b[0;34m\u001b[0m\u001b[0m\n\u001b[0m\u001b[1;32m      6\u001b[0m \u001b[0;32mfor\u001b[0m \u001b[0mi\u001b[0m \u001b[0;32min\u001b[0m \u001b[0mdata_label\u001b[0m\u001b[0;34m:\u001b[0m\u001b[0;34m\u001b[0m\u001b[0;34m\u001b[0m\u001b[0m\n\u001b[1;32m      7\u001b[0m     \u001b[0mprint\u001b[0m\u001b[0;34m(\u001b[0m\u001b[0mi\u001b[0m\u001b[0;34m)\u001b[0m\u001b[0;34m\u001b[0m\u001b[0;34m\u001b[0m\u001b[0m\n",
      "\u001b[0;31mTypeError\u001b[0m: object of type '_csv.reader' has no len()"
     ]
    }
   ],
   "source": [
    "import csv\n",
    "path_in = \"data/row_test.csv\"\n",
    "f_in = open(path_in, 'r', encoding='utf-8')\n",
    "data_label = csv.reader(f_in)\n",
    "print(len(data_label))\n",
    "for i in data_label:\n",
    "    print(i)\n",
    "    break"
   ]
  },
  {
   "cell_type": "code",
   "execution_count": 15,
   "metadata": {},
   "outputs": [
    {
     "name": "stdout",
     "output_type": "stream",
     "text": [
      "[]\n"
     ]
    }
   ],
   "source": [
    "from function_ import get_4aspects\n",
    "\n",
    "description = \"ip_input.c in BSD-derived TCP/IP implementations allows remote attackers to cause a denial of service (crash or hang) via crafted packets.\"\n",
    "list = []\n",
    "list = get_4aspects(description)\n",
    "print(list)"
   ]
  },
  {
   "cell_type": "code",
   "execution_count": 13,
   "metadata": {},
   "outputs": [],
   "source": [
    "path_temp2 = \"data/temp2.csv\"\n",
    "f_temp = open(path_temp2, 'w', encoding='utf-8')\n",
    "f_temp.truncate()\n",
    "f_temp.close()"
   ]
  },
  {
   "cell_type": "code",
   "execution_count": 13,
   "metadata": {},
   "outputs": [
    {
     "name": "stdout",
     "output_type": "stream",
     "text": [
      "['CVE-YYYY-xxxx', 'BSD-derived TCP/IP implementations ', 'remote attackers', 'cause a denial of service (crash or hang)', ' via crafted packets.', '', 'ip_input.c']\n",
      "True\n"
     ]
    }
   ],
   "source": [
    "import csv\n",
    "path_out = \"data/out.csv\"\n",
    "f_out = open(path_out, 'r', encoding='utf-8')\n",
    "lines_out = csv.reader(f_out)\n",
    "flag = False\n",
    "for i in lines_out:\n",
    "    flag = True\n",
    "    print(i)\n",
    "    break\n",
    "print(flag)"
   ]
  }
 ],
 "metadata": {
  "kernelspec": {
   "display_name": "base",
   "language": "python",
   "name": "python3"
  },
  "language_info": {
   "codemirror_mode": {
    "name": "ipython",
    "version": 3
   },
   "file_extension": ".py",
   "mimetype": "text/x-python",
   "name": "python",
   "nbconvert_exporter": "python",
   "pygments_lexer": "ipython3",
   "version": "3.7.11"
  },
  "orig_nbformat": 4
 },
 "nbformat": 4,
 "nbformat_minor": 2
}
